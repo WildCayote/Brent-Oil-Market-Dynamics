{
 "cells": [
  {
   "cell_type": "markdown",
   "metadata": {},
   "source": [
    "### Add scripts to the notebooks path"
   ]
  },
  {
   "cell_type": "code",
   "execution_count": 1,
   "metadata": {},
   "outputs": [
    {
     "name": "stdout",
     "output_type": "stream",
     "text": [
      "d:\\KifiyaAIM-Course\\Week - 10\\Brent-Oil-Market-Dynamics\\notebooks\n"
     ]
    }
   ],
   "source": [
    "import os, sys\n",
    "\n",
    "current_dir = os.getcwd()\n",
    "print(current_dir)\n",
    "\n",
    "# Get the parent directory\n",
    "parent_dir = os.path.dirname(current_dir)\n",
    "\n",
    "scripts_path = os.path.join(parent_dir, 'scripts')\n",
    "\n",
    "# Insert the path to the parent directory\n",
    "sys.path.insert(0, parent_dir)\n",
    "\n",
    "# Insert the path to the Scripts directory\n",
    "sys.path.insert(0, scripts_path)\n",
    "\n",
    "# Add the parent directory to the Python path\n",
    "sys.path.append(os.path.abspath(os.path.join('..')))"
   ]
  },
  {
   "cell_type": "markdown",
   "metadata": {},
   "source": [
    "### Import Statements"
   ]
  },
  {
   "cell_type": "code",
   "execution_count": 2,
   "metadata": {},
   "outputs": [],
   "source": [
    "import math\n",
    "import numpy as np\n",
    "import pandas as pd\n",
    "import seaborn as sns\n",
    "import matplotlib.pyplot as plt"
   ]
  },
  {
   "cell_type": "code",
   "execution_count": 3,
   "metadata": {},
   "outputs": [],
   "source": [
    "sns.set_theme()"
   ]
  },
  {
   "cell_type": "markdown",
   "metadata": {},
   "source": [
    "### Load Data"
   ]
  },
  {
   "cell_type": "code",
   "execution_count": 4,
   "metadata": {},
   "outputs": [],
   "source": [
    "PATH = '../data/merged_data.csv'\n",
    "merged_data = pd.read_csv(PATH)"
   ]
  },
  {
   "cell_type": "markdown",
   "metadata": {},
   "source": [
    "### Feature Engineering Step"
   ]
  },
  {
   "cell_type": "code",
   "execution_count": 5,
   "metadata": {},
   "outputs": [],
   "source": [
    "from scripts.feature_engineering import FeatureEngineering"
   ]
  },
  {
   "cell_type": "markdown",
   "metadata": {},
   "source": [
    "1) Generate new features"
   ]
  },
  {
   "cell_type": "code",
   "execution_count": 6,
   "metadata": {},
   "outputs": [
    {
     "data": {
      "text/html": [
       "<div>\n",
       "<style scoped>\n",
       "    .dataframe tbody tr th:only-of-type {\n",
       "        vertical-align: middle;\n",
       "    }\n",
       "\n",
       "    .dataframe tbody tr th {\n",
       "        vertical-align: top;\n",
       "    }\n",
       "\n",
       "    .dataframe thead th {\n",
       "        text-align: right;\n",
       "    }\n",
       "</style>\n",
       "<table border=\"1\" class=\"dataframe\">\n",
       "  <thead>\n",
       "    <tr style=\"text-align: right;\">\n",
       "      <th></th>\n",
       "      <th>GDP</th>\n",
       "      <th>Exchange Rate</th>\n",
       "      <th>index</th>\n",
       "      <th>Price</th>\n",
       "      <th>Pct_Change</th>\n",
       "      <th>7D_MA</th>\n",
       "      <th>30D_MA</th>\n",
       "      <th>7D_Volatility</th>\n",
       "      <th>30D_Volatility</th>\n",
       "      <th>7D_Change</th>\n",
       "      <th>30D_Change</th>\n",
       "    </tr>\n",
       "    <tr>\n",
       "      <th>Date</th>\n",
       "      <th></th>\n",
       "      <th></th>\n",
       "      <th></th>\n",
       "      <th></th>\n",
       "      <th></th>\n",
       "      <th></th>\n",
       "      <th></th>\n",
       "      <th></th>\n",
       "      <th></th>\n",
       "      <th></th>\n",
       "      <th></th>\n",
       "    </tr>\n",
       "  </thead>\n",
       "  <tbody>\n",
       "    <tr>\n",
       "      <th>1987-01-01</th>\n",
       "      <td>1.748508e+13</td>\n",
       "      <td>NaN</td>\n",
       "      <td>NaN</td>\n",
       "      <td>NaN</td>\n",
       "      <td>NaN</td>\n",
       "      <td>NaN</td>\n",
       "      <td>NaN</td>\n",
       "      <td>NaN</td>\n",
       "      <td>NaN</td>\n",
       "      <td>NaN</td>\n",
       "      <td>NaN</td>\n",
       "    </tr>\n",
       "    <tr>\n",
       "      <th>1987-01-02</th>\n",
       "      <td>1.749073e+13</td>\n",
       "      <td>NaN</td>\n",
       "      <td>NaN</td>\n",
       "      <td>NaN</td>\n",
       "      <td>NaN</td>\n",
       "      <td>NaN</td>\n",
       "      <td>NaN</td>\n",
       "      <td>NaN</td>\n",
       "      <td>NaN</td>\n",
       "      <td>NaN</td>\n",
       "      <td>NaN</td>\n",
       "    </tr>\n",
       "    <tr>\n",
       "      <th>1987-01-03</th>\n",
       "      <td>1.749638e+13</td>\n",
       "      <td>NaN</td>\n",
       "      <td>NaN</td>\n",
       "      <td>NaN</td>\n",
       "      <td>NaN</td>\n",
       "      <td>NaN</td>\n",
       "      <td>NaN</td>\n",
       "      <td>NaN</td>\n",
       "      <td>NaN</td>\n",
       "      <td>NaN</td>\n",
       "      <td>NaN</td>\n",
       "    </tr>\n",
       "    <tr>\n",
       "      <th>1987-01-04</th>\n",
       "      <td>1.750203e+13</td>\n",
       "      <td>NaN</td>\n",
       "      <td>NaN</td>\n",
       "      <td>NaN</td>\n",
       "      <td>NaN</td>\n",
       "      <td>NaN</td>\n",
       "      <td>NaN</td>\n",
       "      <td>NaN</td>\n",
       "      <td>NaN</td>\n",
       "      <td>NaN</td>\n",
       "      <td>NaN</td>\n",
       "    </tr>\n",
       "    <tr>\n",
       "      <th>1987-01-05</th>\n",
       "      <td>1.750768e+13</td>\n",
       "      <td>NaN</td>\n",
       "      <td>NaN</td>\n",
       "      <td>NaN</td>\n",
       "      <td>NaN</td>\n",
       "      <td>NaN</td>\n",
       "      <td>NaN</td>\n",
       "      <td>NaN</td>\n",
       "      <td>NaN</td>\n",
       "      <td>NaN</td>\n",
       "      <td>NaN</td>\n",
       "    </tr>\n",
       "    <tr>\n",
       "      <th>...</th>\n",
       "      <td>...</td>\n",
       "      <td>...</td>\n",
       "      <td>...</td>\n",
       "      <td>...</td>\n",
       "      <td>...</td>\n",
       "      <td>...</td>\n",
       "      <td>...</td>\n",
       "      <td>...</td>\n",
       "      <td>...</td>\n",
       "      <td>...</td>\n",
       "      <td>...</td>\n",
       "    </tr>\n",
       "    <tr>\n",
       "      <th>2022-11-08</th>\n",
       "      <td>1.012251e+14</td>\n",
       "      <td>0.949624</td>\n",
       "      <td>9006.0</td>\n",
       "      <td>96.85</td>\n",
       "      <td>-0.030239</td>\n",
       "      <td>96.575714</td>\n",
       "      <td>93.685333</td>\n",
       "      <td>2.394910</td>\n",
       "      <td>2.984813</td>\n",
       "      <td>2.21</td>\n",
       "      <td>10.88</td>\n",
       "    </tr>\n",
       "    <tr>\n",
       "      <th>2022-11-09</th>\n",
       "      <td>1.012251e+14</td>\n",
       "      <td>0.949624</td>\n",
       "      <td>9007.0</td>\n",
       "      <td>93.05</td>\n",
       "      <td>-0.039236</td>\n",
       "      <td>96.540000</td>\n",
       "      <td>93.802000</td>\n",
       "      <td>2.453059</td>\n",
       "      <td>2.884312</td>\n",
       "      <td>-0.25</td>\n",
       "      <td>3.50</td>\n",
       "    </tr>\n",
       "    <tr>\n",
       "      <th>2022-11-10</th>\n",
       "      <td>1.012251e+14</td>\n",
       "      <td>0.949624</td>\n",
       "      <td>9008.0</td>\n",
       "      <td>94.25</td>\n",
       "      <td>0.012896</td>\n",
       "      <td>96.415714</td>\n",
       "      <td>93.963333</td>\n",
       "      <td>2.556840</td>\n",
       "      <td>2.762986</td>\n",
       "      <td>-0.87</td>\n",
       "      <td>4.84</td>\n",
       "    </tr>\n",
       "    <tr>\n",
       "      <th>2022-11-11</th>\n",
       "      <td>1.012251e+14</td>\n",
       "      <td>0.949624</td>\n",
       "      <td>9009.0</td>\n",
       "      <td>96.37</td>\n",
       "      <td>0.022493</td>\n",
       "      <td>96.458571</td>\n",
       "      <td>94.212333</td>\n",
       "      <td>2.552590</td>\n",
       "      <td>2.624049</td>\n",
       "      <td>0.30</td>\n",
       "      <td>7.47</td>\n",
       "    </tr>\n",
       "    <tr>\n",
       "      <th>2022-11-14</th>\n",
       "      <td>1.012251e+14</td>\n",
       "      <td>0.949624</td>\n",
       "      <td>9010.0</td>\n",
       "      <td>93.59</td>\n",
       "      <td>-0.028847</td>\n",
       "      <td>96.215714</td>\n",
       "      <td>94.309333</td>\n",
       "      <td>2.755134</td>\n",
       "      <td>2.541456</td>\n",
       "      <td>-1.70</td>\n",
       "      <td>2.91</td>\n",
       "    </tr>\n",
       "  </tbody>\n",
       "</table>\n",
       "<p>13005 rows × 11 columns</p>\n",
       "</div>"
      ],
      "text/plain": [
       "                     GDP  Exchange Rate   index  Price  Pct_Change      7D_MA  \\\n",
       "Date                                                                            \n",
       "1987-01-01  1.748508e+13            NaN     NaN    NaN         NaN        NaN   \n",
       "1987-01-02  1.749073e+13            NaN     NaN    NaN         NaN        NaN   \n",
       "1987-01-03  1.749638e+13            NaN     NaN    NaN         NaN        NaN   \n",
       "1987-01-04  1.750203e+13            NaN     NaN    NaN         NaN        NaN   \n",
       "1987-01-05  1.750768e+13            NaN     NaN    NaN         NaN        NaN   \n",
       "...                  ...            ...     ...    ...         ...        ...   \n",
       "2022-11-08  1.012251e+14       0.949624  9006.0  96.85   -0.030239  96.575714   \n",
       "2022-11-09  1.012251e+14       0.949624  9007.0  93.05   -0.039236  96.540000   \n",
       "2022-11-10  1.012251e+14       0.949624  9008.0  94.25    0.012896  96.415714   \n",
       "2022-11-11  1.012251e+14       0.949624  9009.0  96.37    0.022493  96.458571   \n",
       "2022-11-14  1.012251e+14       0.949624  9010.0  93.59   -0.028847  96.215714   \n",
       "\n",
       "               30D_MA  7D_Volatility  30D_Volatility  7D_Change  30D_Change  \n",
       "Date                                                                         \n",
       "1987-01-01        NaN            NaN             NaN        NaN         NaN  \n",
       "1987-01-02        NaN            NaN             NaN        NaN         NaN  \n",
       "1987-01-03        NaN            NaN             NaN        NaN         NaN  \n",
       "1987-01-04        NaN            NaN             NaN        NaN         NaN  \n",
       "1987-01-05        NaN            NaN             NaN        NaN         NaN  \n",
       "...               ...            ...             ...        ...         ...  \n",
       "2022-11-08  93.685333       2.394910        2.984813       2.21       10.88  \n",
       "2022-11-09  93.802000       2.453059        2.884312      -0.25        3.50  \n",
       "2022-11-10  93.963333       2.556840        2.762986      -0.87        4.84  \n",
       "2022-11-11  94.212333       2.552590        2.624049       0.30        7.47  \n",
       "2022-11-14  94.309333       2.755134        2.541456      -1.70        2.91  \n",
       "\n",
       "[13005 rows x 11 columns]"
      ]
     },
     "execution_count": 6,
     "metadata": {},
     "output_type": "execute_result"
    }
   ],
   "source": [
    "data = FeatureEngineering.add_features(data=merged_data)\n",
    "data"
   ]
  },
  {
   "cell_type": "markdown",
   "metadata": {},
   "source": [
    "2) Handle missing values"
   ]
  },
  {
   "cell_type": "code",
   "execution_count": 12,
   "metadata": {},
   "outputs": [
    {
     "data": {
      "text/plain": [
       "GDP               0\n",
       "Exchange Rate     0\n",
       "index             0\n",
       "Price             0\n",
       "Pct_Change        0\n",
       "7D_MA             0\n",
       "30D_MA            0\n",
       "7D_Volatility     0\n",
       "30D_Volatility    0\n",
       "7D_Change         0\n",
       "30D_Change        0\n",
       "dtype: int64"
      ]
     },
     "execution_count": 12,
     "metadata": {},
     "output_type": "execute_result"
    }
   ],
   "source": [
    "data = FeatureEngineering.handle_missing_values(data=data)\n",
    "\n",
    "data.isna().sum()"
   ]
  }
 ],
 "metadata": {
  "kernelspec": {
   "display_name": "venv",
   "language": "python",
   "name": "python3"
  },
  "language_info": {
   "codemirror_mode": {
    "name": "ipython",
    "version": 3
   },
   "file_extension": ".py",
   "mimetype": "text/x-python",
   "name": "python",
   "nbconvert_exporter": "python",
   "pygments_lexer": "ipython3",
   "version": "3.10.2"
  }
 },
 "nbformat": 4,
 "nbformat_minor": 2
}
